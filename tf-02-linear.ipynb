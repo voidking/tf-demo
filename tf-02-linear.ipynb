{
 "cells": [
  {
   "cell_type": "markdown",
   "metadata": {},
   "source": [
    "# tf-02-linear\n",
    "## 目标\n",
    "本例中，我们要使用tensorflow完成线性回归"
   ]
  },
  {
   "cell_type": "code",
   "execution_count": 18,
   "metadata": {},
   "outputs": [
    {
     "name": "stdout",
     "output_type": "stream",
     "text": [
      "tenserflow-version: 1.3.0\n"
     ]
    }
   ],
   "source": [
    "import tensorflow as tf\n",
    "import numpy as np\n",
    "import matplotlib.pyplot as plt\n",
    "import time\n",
    "print('tenserflow-version:',tf.__version__)"
   ]
  },
  {
   "cell_type": "markdown",
   "metadata": {},
   "source": [
    "## 步骤\n",
    "1、生成模拟数据    \n",
    "2、设置初始weight和bias都为1  \n",
    "3、定义损失函数  \n",
    "4、定义优化器  \n",
    "5、利用优化器最小化损失函数，tf自动调整weight和bias  \n",
    "6、初始化变量  \n",
    "7、创建Session，run  \n",
    "8、打印出当前迭代次数下得到的weight和bias"
   ]
  },
  {
   "cell_type": "code",
   "execution_count": 19,
   "metadata": {
    "scrolled": true
   },
   "outputs": [
    {
     "data": {
      "image/png": "[encoded data removed]",
      "text/plain": [
       "<matplotlib.figure.Figure at 0xe6315a828>"
      ]
     },
     "metadata": {},
     "output_type": "display_data"
    }
   ],
   "source": [
    "# x_data = np.array([1,2,3,4,5]) #错误数据\n",
    "# x_data = np.arange(200).astype(np.float32) # 错误数据\n",
    "x_data = np.random.rand(100).astype(np.float32)\n",
    "y_data = x_data*0.3 + 0.1\n",
    "# print(x_data)\n",
    "# print(y_data)\n",
    "plt.plot(x_data,y_data)\n",
    "# plt.scatter(x_data,y_data)\n",
    "plt.show()"
   ]
  },
  {
   "cell_type": "code",
   "execution_count": 20,
   "metadata": {
    "collapsed": true
   },
   "outputs": [],
   "source": [
    "weight = tf.Variable([1],dtype=tf.float32)\n",
    "bias = tf.Variable([1],dtype=tf.float32)\n",
    "# print(tf.zeros([1]))\n",
    "# print(tf.Variable(tf.zeros([1])))\n",
    "# print(weight)"
   ]
  },
  {
   "cell_type": "code",
   "execution_count": 21,
   "metadata": {},
   "outputs": [
    {
     "name": "stdout",
     "output_type": "stream",
     "text": [
      "step: 0 ,weight= [ 0.37216115] ,bias= [-0.22674084]\n",
      "step: 10 ,weight= [ 0.39717469] ,bias= [ 0.05153986]\n",
      "step: 20 ,weight= [ 0.35015368] ,bias= [ 0.07498889]\n",
      "step: 30 ,weight= [ 0.32588524] ,bias= [ 0.0870913]\n",
      "step: 40 ,weight= [ 0.31335983] ,bias= [ 0.0933376]\n",
      "step: 50 ,weight= [ 0.30689526] ,bias= [ 0.09656142]\n",
      "step: 60 ,weight= [ 0.3035588] ,bias= [ 0.09822527]\n",
      "step: 70 ,weight= [ 0.30183676] ,bias= [ 0.09908403]\n",
      "step: 80 ,weight= [ 0.30094796] ,bias= [ 0.09952727]\n",
      "step: 90 ,weight= [ 0.30048925] ,bias= [ 0.09975602]\n",
      "step: 100 ,weight= [ 0.30025253] ,bias= [ 0.09987408]\n",
      "step: 110 ,weight= [ 0.30013031] ,bias= [ 0.09993502]\n",
      "step: 120 ,weight= [ 0.30006725] ,bias= [ 0.09996647]\n",
      "step: 130 ,weight= [ 0.3000347] ,bias= [ 0.09998269]\n",
      "step: 140 ,weight= [ 0.30001792] ,bias= [ 0.09999107]\n",
      "step: 150 ,weight= [ 0.30000925] ,bias= [ 0.0999954]\n",
      "step: 160 ,weight= [ 0.30000478] ,bias= [ 0.09999762]\n",
      "step: 170 ,weight= [ 0.30000249] ,bias= [ 0.09999876]\n",
      "step: 180 ,weight= [ 0.30000129] ,bias= [ 0.09999936]\n",
      "step: 190 ,weight= [ 0.30000067] ,bias= [ 0.09999967]\n",
      "step: 200 ,weight= [ 0.30000037] ,bias= [ 0.09999982]\n"
     ]
    }
   ],
   "source": [
    "y = x_data*weight + bias\n",
    "loss = tf.reduce_mean(tf.square(y-y_data))\n",
    "\n",
    "optimizer = tf.train.GradientDescentOptimizer(learning_rate=0.5)\n",
    "train = optimizer.minimize(loss)\n",
    "\n",
    "init = tf.global_variables_initializer()\n",
    "with tf.Session() as sess:\n",
    "    sess.run(init)\n",
    "    for step in range(201):\n",
    "        sess.run(train)\n",
    "        if step % 10 == 0:\n",
    "            weight_value = sess.run(weight)\n",
    "            bias_value = sess.run(bias)\n",
    "            print('step:',step,',weight=',weight_value,',bias=',bias_value)\n",
    "            # time.sleep(1)"
   ]
  }
 ],
 "metadata": {
  "kernelspec": {
   "display_name": "Python 3",
   "language": "python",
   "name": "python3"
  },
  "language_info": {
   "codemirror_mode": {
    "name": "ipython",
    "version": 3
   },
   "file_extension": ".py",
   "mimetype": "text/x-python",
   "name": "python",
   "nbconvert_exporter": "python",
   "pygments_lexer": "ipython3",
   "version": "3.6.2"
  }
 },
 "nbformat": 4,
 "nbformat_minor": 2
}
