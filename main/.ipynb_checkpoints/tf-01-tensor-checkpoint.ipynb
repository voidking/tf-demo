{
 "cells": [
  {
   "cell_type": "markdown",
   "metadata": {},
   "source": [
    "# tf-01-tensor\n",
    "## 目标\n",
    "本例中，我们要熟悉tensorflow中的张量，包括constant、Variable、placeholder，以及张量的运算  \n",
    "张量的属性包括：名字（name）、维度（shape）、类型（type）"
   ]
  },
  {
   "cell_type": "code",
   "execution_count": 1,
   "metadata": {},
   "outputs": [
    {
     "name": "stdout",
     "output_type": "stream",
     "text": [
      "tenserflow-version: 1.3.0\n"
     ]
    }
   ],
   "source": [
    "import tensorflow as tf\n",
    "print('tenserflow-version:',tf.__version__)"
   ]
  },
  {
   "cell_type": "code",
   "execution_count": 6,
   "metadata": {},
   "outputs": [
    {
     "name": "stdout",
     "output_type": "stream",
     "text": [
      "Tensor(\"num1:0\", shape=(), dtype=float32)\n",
      "Tensor(\"num2:0\", shape=(), dtype=float32)\n",
      "Tensor(\"result:0\", shape=(), dtype=float32)\n",
      "68.0\n",
      "result= 68.0\n"
     ]
    }
   ],
   "source": [
    "num1 = tf.constant(34,dtype=tf.float32,name='num1')\n",
    "print(num1)\n",
    "num2 = tf.constant(34,dtype=tf.float32,name='num2')\n",
    "print(num2)\n",
    "result = tf.add(num1,num2,name='result')\n",
    "print(result)\n",
    "\n",
    "with tf.Session() as sess:\n",
    "    print(sess.run(result))\n",
    "    \n",
    "with tf.Session() as sess:\n",
    "    print('result=',sess.run(result))"
   ]
  },
  {
   "cell_type": "code",
   "execution_count": 3,
   "metadata": {},
   "outputs": [
    {
     "name": "stdout",
     "output_type": "stream",
     "text": [
      "<tf.Variable 'Variable:0' shape=() dtype=float32_ref>\n",
      "<tf.Variable 'Variable_1:0' shape=() dtype=float32_ref>\n",
      "Tensor(\"Add_2:0\", shape=(), dtype=float32)\n",
      "result2= 68.0\n"
     ]
    }
   ],
   "source": [
    "num3 = tf.Variable(34,dtype=tf.float32)\n",
    "print(num3)\n",
    "num4 = tf.Variable(34,dtype=tf.float32)\n",
    "print(num4)\n",
    "result2 = tf.add(num3,num4)\n",
    "print(tf.add(num3,num4))\n",
    "\n",
    "init = tf.global_variables_initializer()\n",
    "with tf.Session() as sess:\n",
    "    sess.run(init)\n",
    "    print('result2=',sess.run(result2))"
   ]
  },
  {
   "cell_type": "code",
   "execution_count": 4,
   "metadata": {},
   "outputs": [
    {
     "name": "stdout",
     "output_type": "stream",
     "text": [
      "Tensor(\"Placeholder:0\", dtype=float32)\n",
      "Tensor(\"Placeholder_1:0\", dtype=float32)\n",
      "Tensor(\"Add_3:0\", dtype=float32)\n",
      "3.0\n"
     ]
    }
   ],
   "source": [
    "num5 = tf.placeholder(dtype=tf.float32,shape=None)\n",
    "num6 = tf.placeholder(shape=None,dtype=tf.float32)\n",
    "result3 = tf.add(num5,num6)\n",
    "print(num5)\n",
    "print(num6)\n",
    "print(result3)\n",
    "with tf.Session() as sess:\n",
    "    result3_value = sess.run(result3, feed_dict={num5: 1, num6: 2})\n",
    "    print(result3_value)"
   ]
  },
  {
   "cell_type": "code",
   "execution_count": 5,
   "metadata": {},
   "outputs": [
    {
     "name": "stdout",
     "output_type": "stream",
     "text": [
      "Tensor(\"Const_2:0\", shape=(2, 2), dtype=float32)\n",
      "Tensor(\"Const_3:0\", shape=(2, 2), dtype=float32)\n",
      "Tensor(\"Add_4:0\", shape=(2, 2), dtype=float32)\n",
      "[[ 2.  4.]\n",
      " [ 6.  8.]]\n"
     ]
    }
   ],
   "source": [
    "num7 = tf.constant([1,2,3,4],shape=[2,2],dtype=tf.float32)\n",
    "num8 = tf.constant([1,2,3,4],shape=(2,2),dtype=tf.float32)\n",
    "result4 = tf.add(num7,num8)\n",
    "print(num7)\n",
    "print(num8)\n",
    "print(result4)\n",
    "with tf.Session() as sess:\n",
    "    result4_value = sess.run(result4)\n",
    "    print(result4_value)"
   ]
  }
 ],
 "metadata": {
  "kernelspec": {
   "display_name": "Python 3",
   "language": "python",
   "name": "python3"
  },
  "language_info": {
   "codemirror_mode": {
    "name": "ipython",
    "version": 3
   },
   "file_extension": ".py",
   "mimetype": "text/x-python",
   "name": "python",
   "nbconvert_exporter": "python",
   "pygments_lexer": "ipython3",
   "version": "3.6.1"
  }
 },
 "nbformat": 4,
 "nbformat_minor": 2
}
