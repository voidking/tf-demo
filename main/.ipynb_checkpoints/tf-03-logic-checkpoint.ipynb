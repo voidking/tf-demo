{
 "cells": [
  {
   "cell_type": "markdown",
   "metadata": {},
   "source": [
    "# tf-03-logic\n",
    "## 目标\n",
    "本例中，我们要使用tensorflow完成逻辑回归"
   ]
  },
  {
   "cell_type": "code",
   "execution_count": 39,
   "metadata": {},
   "outputs": [
    {
     "name": "stdout",
     "output_type": "stream",
     "text": [
      "tenserflow-version: 1.4.0\n"
     ]
    }
   ],
   "source": [
    "import tensorflow as tf\n",
    "import numpy as np\n",
    "import matplotlib.pyplot as plt\n",
    "import time\n",
    "print('tenserflow-version:',tf.__version__)"
   ]
  },
  {
   "cell_type": "markdown",
   "metadata": {},
   "source": [
    "## 步骤\n",
    "1、生成模拟数据    \n",
    "2、设置初始weight和bias都为1  \n",
    "3、定义损失函数  \n",
    "4、定义优化器  \n",
    "5、利用优化器最小化损失函数，tf自动调整weight和bias  \n",
    "6、初始化变量  \n",
    "7、创建Session，run  \n",
    "8、打印出当前迭代次数下得到的weight和bias"
   ]
  },
  {
   "cell_type": "code",
   "execution_count": 40,
   "metadata": {},
   "outputs": [
    {
     "name": "stdout",
     "output_type": "stream",
     "text": [
      "[  0.   1.   2.   3.   4.   5.   6.   7.   8.   9.  15.  16.  17.  18.  19.\n",
      "  20.  21.  22.  23.  24.  25.  26.  27.  28.  29.  30.]\n"
     ]
    },
    {
     "data": {
      "image/png": "[encoded data removed]",
      "text/plain": [
       "<matplotlib.figure.Figure at 0x336068e668>"
      ]
     },
     "metadata": {},
     "output_type": "display_data"
    }
   ],
   "source": [
    "##### x_data = np.arange(30)\n",
    "x_data = np.append(np.arange(10),np.arange(15,31)).astype(np.float32)\n",
    "# x_data = np.random.rand(100).astype(np.float32)\n",
    "print(x_data)\n",
    "y_data = np.array([(1 if x>10 else 0 ) for x in x_data]).astype(np.float32)\n",
    "# plt.plot(x_data,y_data,marker='x')\n",
    "plt.scatter(x_data,y_data,marker='x')\n",
    "plt.show()"
   ]
  },
  {
   "cell_type": "code",
   "execution_count": 41,
   "metadata": {},
   "outputs": [],
   "source": [
    "sample_num = len(x_data)\n",
    "\n",
    "# 权重和偏置不能初始化为1，否则nan\n",
    "# Weight = tf.Variable([0.1],dtype=tf.float32,name='weight')\n",
    "# bias = tf.Variable([0.1],dtype=tf.float32,name='bias')\n",
    "Weight = tf.Variable(np.random.randn(),dtype=tf.float32,name='weight')\n",
    "bias = tf.Variable(np.random.randn(),dtype=tf.float32,name='bias')"
   ]
  },
  {
   "cell_type": "code",
   "execution_count": 43,
   "metadata": {
    "scrolled": true
   },
   "outputs": [
    {
     "name": "stdout",
     "output_type": "stream",
     "text": [
      "step: 0 ,weight= 0.19638 ,bias= 0.246088\n",
      "step: 50 ,weight= 0.118771 ,bias= -0.213038\n",
      "step: 100 ,weight= 0.142246 ,bias= -0.604568\n",
      "step: 150 ,weight= 0.163419 ,bias= -0.944466\n",
      "step: 200 ,weight= 0.182534 ,bias= -1.24193\n",
      "step: 250 ,weight= 0.199862 ,bias= -1.50483\n",
      "step: 300 ,weight= 0.215657 ,bias= -1.73955\n",
      "step: 350 ,weight= 0.230143 ,bias= -1.95111\n",
      "step: 400 ,weight= 0.243505 ,bias= -2.14342\n",
      "step: 450 ,weight= 0.255899 ,bias= -2.3196\n",
      "step: 500 ,weight= 0.267452 ,bias= -2.48208\n",
      "step: 550 ,weight= 0.278272 ,bias= -2.63283\n",
      "step: 600 ,weight= 0.288446 ,bias= -2.77344\n",
      "step: 650 ,weight= 0.298048 ,bias= -2.90519\n",
      "step: 700 ,weight= 0.307142 ,bias= -3.02915\n",
      "step: 750 ,weight= 0.31578 ,bias= -3.14622\n",
      "step: 800 ,weight= 0.324006 ,bias= -3.25715\n",
      "step: 850 ,weight= 0.331861 ,bias= -3.36256\n",
      "step: 900 ,weight= 0.339379 ,bias= -3.46301\n",
      "step: 950 ,weight= 0.346587 ,bias= -3.55896\n"
     ]
    },
    {
     "data": {
      "image/png": "[encoded data removed]",
      "text/plain": [
       "<matplotlib.figure.Figure at 0x3370690c50>"
      ]
     },
     "metadata": {},
     "output_type": "display_data"
    }
   ],
   "source": [
    "\n",
    "z = Weight*x_data+ bias\n",
    "h = tf.sigmoid(z)\n",
    "\n",
    "# loss = tf.reduce_mean(tf.square(h-y_data))\n",
    "loss = (tf.reduce_sum(y_data*tf.log(h)) + tf.reduce_sum((1-y_data) * (tf.log(1-h)))) / (-sample_num)\n",
    "\n",
    "optimizer = tf.train.GradientDescentOptimizer(learning_rate=0.05)\n",
    "train = optimizer.minimize(loss)\n",
    "\n",
    "init = tf.global_variables_initializer()\n",
    "with tf.Session() as sess:\n",
    "    sess.run(init)\n",
    "    for step in range(5000):\n",
    "        sess.run(train,feed_dict={X: x_data, Y: y_data})\n",
    "        if step % 50 == 0:\n",
    "            print('step:',step,',weight=',sess.run(Weight),',bias=',sess.run(bias))\n",
    "            # time.sleep(1)\n",
    "    plt.scatter(x_data,y_data,marker='x')\n",
    "    plt.plot(x_data,sess.run(h))\n",
    "    plt.show()"
   ]
  },
  {
   "cell_type": "markdown",
   "metadata": {},
   "source": [
    "# 书签\n",
    "[Machine Learning 学习笔记 (1) —— 线性回归与逻辑回归](https://www.cnblogs.com/tbcaaa8/p/4415429.html)   \n",
    "[机器学习与TensorFlow编程（2）逻辑线性回归模型](https://www.zybuluo.com/irving512/note/763055)  \n",
    "[机器学习之逻辑回归及 sklearn 和 Tensorflow 代码示例](https://juejin.im/entry/58f220f0a0bb9f006a95b5ef)"
   ]
  }
 ],
 "metadata": {
  "kernelspec": {
   "display_name": "Python 3",
   "language": "python",
   "name": "python3"
  },
  "language_info": {
   "codemirror_mode": {
    "name": "ipython",
    "version": 3
   },
   "file_extension": ".py",
   "mimetype": "text/x-python",
   "name": "python",
   "nbconvert_exporter": "python",
   "pygments_lexer": "ipython3",
   "version": "3.6.1"
  }
 },
 "nbformat": 4,
 "nbformat_minor": 2
}
