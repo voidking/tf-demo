{
 "cells": [
  {
   "cell_type": "markdown",
   "metadata": {},
   "source": [
    "# tf-02-linear\n",
    "## 目标\n",
    "本例中，我们要使用tensorflow完成线性回归"
   ]
  },
  {
   "cell_type": "code",
   "execution_count": 1,
   "metadata": {},
   "outputs": [
    {
     "name": "stdout",
     "output_type": "stream",
     "text": [
      "tenserflow-version: 1.4.0\n"
     ]
    }
   ],
   "source": [
    "import tensorflow as tf\n",
    "import numpy as np\n",
    "import matplotlib.pyplot as plt\n",
    "import time\n",
    "print('tenserflow-version:',tf.__version__)"
   ]
  },
  {
   "cell_type": "markdown",
   "metadata": {},
   "source": [
    "## 步骤\n",
    "1、生成模拟数据    \n",
    "2、设置初始weight和bias都为1  \n",
    "3、定义损失函数  \n",
    "4、定义优化器  \n",
    "5、利用优化器最小化损失函数，tf自动调整weight和bias  \n",
    "6、初始化变量  \n",
    "7、创建Session，run  \n",
    "8、打印出当前迭代次数下得到的weight和bias"
   ]
  },
  {
   "cell_type": "code",
   "execution_count": 2,
   "metadata": {
    "scrolled": true
   },
   "outputs": [
    {
     "data": {
      "image/png": "[encoded data removed]",
      "text/plain": [
       "<matplotlib.figure.Figure at 0xd91661b908>"
      ]
     },
     "metadata": {},
     "output_type": "display_data"
    }
   ],
   "source": [
    "# x_data = np.array([1,2,3,4,5]) #错误数据\n",
    "# x_data = np.arange(200).astype(np.float32) # 错误数据\n",
    "x_data = np.random.rand(100).astype(np.float32)\n",
    "y_data = x_data*0.3 + 0.1\n",
    "# print(x_data)\n",
    "# print(y_data)\n",
    "# plt.plot(x_data,y_data)\n",
    "plt.scatter(x_data,y_data,marker='x')\n",
    "plt.show()"
   ]
  },
  {
   "cell_type": "code",
   "execution_count": 3,
   "metadata": {},
   "outputs": [],
   "source": [
    "weight = tf.Variable([1],dtype=tf.float32)\n",
    "bias = tf.Variable([1],dtype=tf.float32)\n",
    "# print(tf.zeros([1]))\n",
    "# print(tf.Variable(tf.zeros([1])))\n",
    "# print(weight)"
   ]
  },
  {
   "cell_type": "code",
   "execution_count": 7,
   "metadata": {},
   "outputs": [
    {
     "name": "stdout",
     "output_type": "stream",
     "text": [
      "step: 0 ,weight= [ 0.33110297] ,bias= [-0.24039173]\n",
      "step: 10 ,weight= [ 0.37563729] ,bias= [ 0.06024631]\n",
      "step: 20 ,weight= [ 0.33476746] ,bias= [ 0.081727]\n",
      "step: 30 ,weight= [ 0.31598118] ,bias= [ 0.09160064]\n",
      "step: 40 ,weight= [ 0.30734587] ,bias= [ 0.09613918]\n",
      "step: 50 ,weight= [ 0.30337659] ,bias= [ 0.09822534]\n",
      "step: 60 ,weight= [ 0.30155209] ,bias= [ 0.09918427]\n",
      "step: 70 ,weight= [ 0.30071345] ,bias= [ 0.09962503]\n",
      "step: 80 ,weight= [ 0.30032793] ,bias= [ 0.09982765]\n",
      "step: 90 ,weight= [ 0.30015069] ,bias= [ 0.0999208]\n",
      "step: 100 ,weight= [ 0.30006927] ,bias= [ 0.0999636]\n",
      "step: 110 ,weight= [ 0.30003184] ,bias= [ 0.09998327]\n",
      "step: 120 ,weight= [ 0.30001464] ,bias= [ 0.09999231]\n",
      "step: 130 ,weight= [ 0.30000675] ,bias= [ 0.09999646]\n",
      "step: 140 ,weight= [ 0.30000311] ,bias= [ 0.09999838]\n",
      "step: 150 ,weight= [ 0.30000144] ,bias= [ 0.09999925]\n",
      "step: 160 ,weight= [ 0.30000067] ,bias= [ 0.09999965]\n",
      "step: 170 ,weight= [ 0.30000031] ,bias= [ 0.09999985]\n",
      "step: 180 ,weight= [ 0.30000013] ,bias= [ 0.09999994]\n",
      "step: 190 ,weight= [ 0.30000013] ,bias= [ 0.09999994]\n",
      "step: 200 ,weight= [ 0.30000013] ,bias= [ 0.09999994]\n"
     ]
    },
    {
     "data": {
      "image/png": "[encoded data removed]",
      "text/plain": [
       "<matplotlib.figure.Figure at 0xd905512f28>"
      ]
     },
     "metadata": {},
     "output_type": "display_data"
    }
   ],
   "source": [
    "y = x_data*weight + bias\n",
    "loss = tf.reduce_mean(tf.square(y-y_data))\n",
    "\n",
    "optimizer = tf.train.GradientDescentOptimizer(learning_rate=0.5)\n",
    "train = optimizer.minimize(loss)\n",
    "\n",
    "init = tf.global_variables_initializer()\n",
    "with tf.Session() as sess:\n",
    "    sess.run(init)\n",
    "    for step in range(201):\n",
    "        sess.run(train)\n",
    "        if step % 10 == 0:\n",
    "            weight_value = sess.run(weight)\n",
    "            bias_value = sess.run(bias)\n",
    "            print('step:',step,',weight=',weight_value,',bias=',bias_value)\n",
    "            # time.sleep(1)\n",
    "    plt.scatter(x_data,y_data,marker='x')\n",
    "    plt.plot(x_data,sess.run(y))\n",
    "    plt.show()"
   ]
  }
 ],
 "metadata": {
  "kernelspec": {
   "display_name": "Python 3",
   "language": "python",
   "name": "python3"
  },
  "language_info": {
   "codemirror_mode": {
    "name": "ipython",
    "version": 3
   },
   "file_extension": ".py",
   "mimetype": "text/x-python",
   "name": "python",
   "nbconvert_exporter": "python",
   "pygments_lexer": "ipython3",
   "version": "3.6.1"
  }
 },
 "nbformat": 4,
 "nbformat_minor": 2
}
