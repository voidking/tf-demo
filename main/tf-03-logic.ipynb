{
 "cells": [
  {
   "cell_type": "markdown",
   "metadata": {},
   "source": [
    "# tf-03-logic\n",
    "## 目标\n",
    "本例中，我们要使用tensorflow完成逻辑回归"
   ]
  },
  {
   "cell_type": "code",
   "execution_count": 39,
   "metadata": {},
   "outputs": [
    {
     "name": "stdout",
     "output_type": "stream",
     "text": [
      "tenserflow-version: 1.4.0\n"
     ]
    }
   ],
   "source": [
    "import tensorflow as tf\n",
    "import numpy as np\n",
    "import matplotlib.pyplot as plt\n",
    "import time\n",
    "print('tenserflow-version:',tf.__version__)"
   ]
  },
  {
   "cell_type": "markdown",
   "metadata": {},
   "source": [
    "## 步骤\n",
    "1、生成模拟数据    \n",
    "2、设置初始weight和bias都为1  \n",
    "3、定义损失函数  \n",
    "4、定义优化器  \n",
    "5、利用优化器最小化损失函数，tf自动调整weight和bias  \n",
    "6、初始化变量  \n",
    "7、创建Session，run  \n",
    "8、打印出当前迭代次数下得到的weight和bias"
   ]
  },
  {
   "cell_type": "code",
   "execution_count": 40,
   "metadata": {},
   "outputs": [
    {
     "name": "stdout",
     "output_type": "stream",
     "text": [
      "[  0.   1.   2.   3.   4.   5.   6.   7.   8.   9.  15.  16.  17.  18.  19.\n",
      "  20.  21.  22.  23.  24.  25.  26.  27.  28.  29.  30.]\n"
     ]
    },
    {
     "data": {
      "image/png": "[encoded data removed]",
      "text/plain": [
       "<matplotlib.figure.Figure at 0x336068e668>"
      ]
     },
     "metadata": {},
     "output_type": "display_data"
    }
   ],
   "source": [
    "##### x_data = np.arange(30)\n",
    "x_data = np.append(np.arange(10),np.arange(15,31)).astype(np.float32)\n",
    "# x_data = np.random.rand(100).astype(np.float32)\n",
    "print(x_data)\n",
    "y_data = np.array([(1 if x>10 else 0 ) for x in x_data]).astype(np.float32)\n",
    "# plt.plot(x_data,y_data,marker='x')\n",
    "plt.scatter(x_data,y_data,marker='x')\n",
    "plt.show()"
   ]
  },
  {
   "cell_type": "code",
   "execution_count": 41,
   "metadata": {},
   "outputs": [],
   "source": [
    "sample_num = len(x_data)\n",
    "\n",
    "# 权重和偏置不能初始化为1，否则nan\n",
    "# Weight = tf.Variable([0.1],dtype=tf.float32,name='weight')\n",
    "# bias = tf.Variable([0.1],dtype=tf.float32,name='bias')\n",
    "Weight = tf.Variable(np.random.randn(),dtype=tf.float32,name='weight')\n",
    "bias = tf.Variable(np.random.randn(),dtype=tf.float32,name='bias')"
   ]
  },
  {
   "cell_type": "code",
   "execution_count": 44,
   "metadata": {
    "scrolled": true
   },
   "outputs": [
    {
     "name": "stdout",
     "output_type": "stream",
     "text": [
      "step: 0 ,weight= 0.19638 ,bias= 0.246088\n",
      "step: 50 ,weight= 0.118771 ,bias= -0.213038\n",
      "step: 100 ,weight= 0.142246 ,bias= -0.604568\n",
      "step: 150 ,weight= 0.163419 ,bias= -0.944466\n",
      "step: 200 ,weight= 0.182534 ,bias= -1.24193\n",
      "step: 250 ,weight= 0.199862 ,bias= -1.50483\n",
      "step: 300 ,weight= 0.215657 ,bias= -1.73955\n",
      "step: 350 ,weight= 0.230143 ,bias= -1.95111\n",
      "step: 400 ,weight= 0.243505 ,bias= -2.14342\n",
      "step: 450 ,weight= 0.255899 ,bias= -2.3196\n",
      "step: 500 ,weight= 0.267452 ,bias= -2.48208\n",
      "step: 550 ,weight= 0.278272 ,bias= -2.63283\n",
      "step: 600 ,weight= 0.288446 ,bias= -2.77344\n",
      "step: 650 ,weight= 0.298048 ,bias= -2.90519\n",
      "step: 700 ,weight= 0.307142 ,bias= -3.02915\n",
      "step: 750 ,weight= 0.31578 ,bias= -3.14622\n",
      "step: 800 ,weight= 0.324006 ,bias= -3.25715\n",
      "step: 850 ,weight= 0.331861 ,bias= -3.36256\n",
      "step: 900 ,weight= 0.339379 ,bias= -3.46301\n",
      "step: 950 ,weight= 0.346587 ,bias= -3.55896\n",
      "step: 1000 ,weight= 0.353513 ,bias= -3.65081\n",
      "step: 1050 ,weight= 0.360179 ,bias= -3.73892\n",
      "step: 1100 ,weight= 0.366604 ,bias= -3.82359\n",
      "step: 1150 ,weight= 0.372807 ,bias= -3.9051\n",
      "step: 1200 ,weight= 0.378804 ,bias= -3.98368\n",
      "step: 1250 ,weight= 0.384608 ,bias= -4.05956\n",
      "step: 1300 ,weight= 0.390233 ,bias= -4.13292\n",
      "step: 1350 ,weight= 0.39569 ,bias= -4.20394\n",
      "step: 1400 ,weight= 0.400989 ,bias= -4.27276\n",
      "step: 1450 ,weight= 0.406141 ,bias= -4.33954\n",
      "step: 1500 ,weight= 0.411153 ,bias= -4.40439\n",
      "step: 1550 ,weight= 0.416033 ,bias= -4.46743\n",
      "step: 1600 ,weight= 0.42079 ,bias= -4.52877\n",
      "step: 1650 ,weight= 0.425429 ,bias= -4.5885\n",
      "step: 1700 ,weight= 0.429956 ,bias= -4.64671\n",
      "step: 1750 ,weight= 0.434377 ,bias= -4.70348\n",
      "step: 1800 ,weight= 0.438698 ,bias= -4.75889\n",
      "step: 1850 ,weight= 0.442923 ,bias= -4.81299\n",
      "step: 1900 ,weight= 0.447057 ,bias= -4.86587\n",
      "step: 1950 ,weight= 0.451104 ,bias= -4.91757\n",
      "step: 2000 ,weight= 0.455067 ,bias= -4.96815\n",
      "step: 2050 ,weight= 0.458951 ,bias= -5.01767\n",
      "step: 2100 ,weight= 0.462759 ,bias= -5.06616\n",
      "step: 2150 ,weight= 0.466494 ,bias= -5.11368\n",
      "step: 2200 ,weight= 0.470159 ,bias= -5.16027\n",
      "step: 2250 ,weight= 0.473756 ,bias= -5.20596\n",
      "step: 2300 ,weight= 0.477289 ,bias= -5.25079\n",
      "step: 2350 ,weight= 0.480759 ,bias= -5.29479\n",
      "step: 2400 ,weight= 0.48417 ,bias= -5.338\n",
      "step: 2450 ,weight= 0.487523 ,bias= -5.38045\n",
      "step: 2500 ,weight= 0.490821 ,bias= -5.42216\n",
      "step: 2550 ,weight= 0.494065 ,bias= -5.46317\n",
      "step: 2600 ,weight= 0.497257 ,bias= -5.50349\n",
      "step: 2650 ,weight= 0.5004 ,bias= -5.54315\n",
      "step: 2700 ,weight= 0.503493 ,bias= -5.58218\n",
      "step: 2750 ,weight= 0.506541 ,bias= -5.6206\n",
      "step: 2800 ,weight= 0.509543 ,bias= -5.65842\n",
      "step: 2850 ,weight= 0.512501 ,bias= -5.69567\n",
      "step: 2900 ,weight= 0.515417 ,bias= -5.73236\n",
      "step: 2950 ,weight= 0.518291 ,bias= -5.76852\n",
      "step: 3000 ,weight= 0.521126 ,bias= -5.80416\n",
      "step: 3050 ,weight= 0.523922 ,bias= -5.83929\n",
      "step: 3100 ,weight= 0.526681 ,bias= -5.87392\n",
      "step: 3150 ,weight= 0.529403 ,bias= -5.90809\n",
      "step: 3200 ,weight= 0.532089 ,bias= -5.94179\n",
      "step: 3250 ,weight= 0.534741 ,bias= -5.97505\n",
      "step: 3300 ,weight= 0.53736 ,bias= -6.00787\n",
      "step: 3350 ,weight= 0.539946 ,bias= -6.04026\n",
      "step: 3400 ,weight= 0.5425 ,bias= -6.07225\n",
      "step: 3450 ,weight= 0.545023 ,bias= -6.10384\n",
      "step: 3500 ,weight= 0.547516 ,bias= -6.13503\n",
      "step: 3550 ,weight= 0.54998 ,bias= -6.16584\n",
      "step: 3600 ,weight= 0.552415 ,bias= -6.19629\n",
      "step: 3650 ,weight= 0.554822 ,bias= -6.22637\n",
      "step: 3700 ,weight= 0.557202 ,bias= -6.2561\n",
      "step: 3750 ,weight= 0.559556 ,bias= -6.28549\n",
      "step: 3800 ,weight= 0.561883 ,bias= -6.31455\n",
      "step: 3850 ,weight= 0.564185 ,bias= -6.34328\n",
      "step: 3900 ,weight= 0.566463 ,bias= -6.37169\n",
      "step: 3950 ,weight= 0.568716 ,bias= -6.39979\n",
      "step: 4000 ,weight= 0.570946 ,bias= -6.42759\n",
      "step: 4050 ,weight= 0.573152 ,bias= -6.45509\n",
      "step: 4100 ,weight= 0.575337 ,bias= -6.4823\n",
      "step: 4150 ,weight= 0.577498 ,bias= -6.50923\n",
      "step: 4200 ,weight= 0.579639 ,bias= -6.53588\n",
      "step: 4250 ,weight= 0.581758 ,bias= -6.56226\n",
      "step: 4300 ,weight= 0.583857 ,bias= -6.58837\n",
      "step: 4350 ,weight= 0.585935 ,bias= -6.61423\n",
      "step: 4400 ,weight= 0.587993 ,bias= -6.63983\n",
      "step: 4450 ,weight= 0.590032 ,bias= -6.66518\n",
      "step: 4500 ,weight= 0.592052 ,bias= -6.69029\n",
      "step: 4550 ,weight= 0.594054 ,bias= -6.71516\n",
      "step: 4600 ,weight= 0.596036 ,bias= -6.73979\n",
      "step: 4650 ,weight= 0.598002 ,bias= -6.7642\n",
      "step: 4700 ,weight= 0.599949 ,bias= -6.78838\n",
      "step: 4750 ,weight= 0.601879 ,bias= -6.81235\n",
      "step: 4800 ,weight= 0.603792 ,bias= -6.83609\n",
      "step: 4850 ,weight= 0.605689 ,bias= -6.85963\n",
      "step: 4900 ,weight= 0.60757 ,bias= -6.88296\n",
      "step: 4950 ,weight= 0.609434 ,bias= -6.90608\n"
     ]
    },
    {
     "data": {
      "image/png": "[encoded data removed]",
      "text/plain": [
       "<matplotlib.figure.Figure at 0x3370426dd8>"
      ]
     },
     "metadata": {},
     "output_type": "display_data"
    }
   ],
   "source": [
    "\n",
    "z = Weight*x_data+ bias\n",
    "h = tf.sigmoid(z)\n",
    "\n",
    "# loss = tf.reduce_mean(tf.square(h-y_data))\n",
    "loss = (tf.reduce_sum(y_data*tf.log(h)) + tf.reduce_sum((1-y_data) * (tf.log(1-h)))) / (-sample_num)\n",
    "\n",
    "optimizer = tf.train.GradientDescentOptimizer(learning_rate=0.05)\n",
    "train = optimizer.minimize(loss)\n",
    "\n",
    "init = tf.global_variables_initializer()\n",
    "with tf.Session() as sess:\n",
    "    sess.run(init)\n",
    "    for step in range(5000):\n",
    "        sess.run(train,feed_dict={X: x_data, Y: y_data})\n",
    "        if step % 50 == 0:\n",
    "            print('step:',step,',weight=',sess.run(Weight),',bias=',sess.run(bias))\n",
    "            # time.sleep(1)\n",
    "    plt.scatter(x_data,y_data,marker='x')\n",
    "    plt.plot(x_data,sess.run(h))\n",
    "    plt.show()"
   ]
  },
  {
   "cell_type": "markdown",
   "metadata": {},
   "source": [
    "# 书签\n",
    "[Machine Learning 学习笔记 (1) —— 线性回归与逻辑回归](https://www.cnblogs.com/tbcaaa8/p/4415429.html)   \n",
    "[机器学习与TensorFlow编程（2）逻辑线性回归模型](https://www.zybuluo.com/irving512/note/763055)  \n",
    "[机器学习之逻辑回归及 sklearn 和 Tensorflow 代码示例](https://juejin.im/entry/58f220f0a0bb9f006a95b5ef)"
   ]
  }
 ],
 "metadata": {
  "kernelspec": {
   "display_name": "Python 3",
   "language": "python",
   "name": "python3"
  },
  "language_info": {
   "codemirror_mode": {
    "name": "ipython",
    "version": 3
   },
   "file_extension": ".py",
   "mimetype": "text/x-python",
   "name": "python",
   "nbconvert_exporter": "python",
   "pygments_lexer": "ipython3",
   "version": "3.6.1"
  }
 },
 "nbformat": 4,
 "nbformat_minor": 2
}
