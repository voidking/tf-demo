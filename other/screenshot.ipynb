{
 "cells": [
  {
   "cell_type": "markdown",
   "metadata": {},
   "source": [
    "# 截屏和录屏\n",
    "## 安装依赖包\n",
    "`pip install pillow`\n",
    "`pip install moviepy`"
   ]
  },
  {
   "cell_type": "code",
   "execution_count": 3,
   "metadata": {},
   "outputs": [
    {
     "name": "stdout",
     "output_type": "stream",
     "text": [
      "Please input DirName to store picture\n",
      "DirName: demo\n",
      "Recording screen, Please input FileName to store mp4 file\n",
      "FileName: demo\n",
      "[MoviePy] >>>> Building video demo.mp4\n",
      "[MoviePy] Writing video demo.mp4\n"
     ]
    },
    {
     "name": "stderr",
     "output_type": "stream",
     "text": [
      "100%|██████████████████████████████████████████████████████████████| 68/68 [00:02<00:00, 27.95it/s]\n"
     ]
    },
    {
     "name": "stdout",
     "output_type": "stream",
     "text": [
      "[MoviePy] Done.\n",
      "[MoviePy] >>>> Video ready: demo.mp4 \n",
      "\n"
     ]
    }
   ],
   "source": [
    "import threading, os, time, sys\n",
    "from PIL import ImageGrab\n",
    "from moviepy.editor import ImageSequenceClip\n",
    "\n",
    "print('Please input DirName to store picture')\n",
    "dirName = input('DirName: ') or 'demo'\n",
    "if not os.path.isdir(dirName):\n",
    "    os.mkdir(dirName)\n",
    "recording, imageList, recordTime = True, [], 0\n",
    "def get_pictures():\n",
    "    global recordTime\n",
    "    t = time.time()\n",
    "    while recording:\n",
    "        image = ImageGrab.grab()\n",
    "        imageName = os.path.join(\n",
    "            dirName, '%s.jpg' % int(time.time() * 1e3))\n",
    "        image.save(imageName)\n",
    "        imageList.append(imageName)\n",
    "        recordTime = time.time() - t\n",
    "t = threading.Thread(target=get_pictures, daemon=True)\n",
    "t.start()\n",
    "print('Recording screen, Please input FileName to store mp4 file')\n",
    "  \n",
    "fileName = input('FileName: ') or 'demo'\n",
    "recording = False\n",
    "\n",
    "clip = ImageSequenceClip(imageList,\n",
    "    fps=int(len(imageList) / recordTime))\n",
    "clip.write_videofile('%s.mp4' % fileName)"
   ]
  },
  {
   "cell_type": "code",
   "execution_count": null,
   "metadata": {},
   "outputs": [],
   "source": []
  }
 ],
 "metadata": {
  "kernelspec": {
   "display_name": "Python 3",
   "language": "python",
   "name": "python3"
  },
  "language_info": {
   "codemirror_mode": {
    "name": "ipython",
    "version": 3
   },
   "file_extension": ".py",
   "mimetype": "text/x-python",
   "name": "python",
   "nbconvert_exporter": "python",
   "pygments_lexer": "ipython3",
   "version": "3.6.1"
  }
 },
 "nbformat": 4,
 "nbformat_minor": 2
}
