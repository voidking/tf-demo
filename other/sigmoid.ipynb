{
 "cells": [
  {
   "cell_type": "code",
   "execution_count": 1,
   "metadata": {},
   "outputs": [],
   "source": [
    "import tensorflow as tf\n",
    "import numpy\n",
    "import matplotlib.pyplot as plt\n",
    "rng = numpy.random"
   ]
  },
  {
   "cell_type": "code",
   "execution_count": 2,
   "metadata": {},
   "outputs": [],
   "source": [
    "# 设定的超参数\n",
    "learning_rate = 0.01\n",
    "training_epochs = 1000\n",
    "display_step = 50"
   ]
  },
  {
   "cell_type": "code",
   "execution_count": 3,
   "metadata": {},
   "outputs": [],
   "source": [
    "# 构造一些数据\n",
    "train_X = numpy.asarray([-10.0,-9.0,-8.0,-7.0,-6.0,-5.0,-4.0,-3.0,-2.0,-1.0,1.0,2.0,3.0,4.0,5.0,6.0,7.0,8.0,9.0,10.0])\n",
    "train_Y = numpy.asarray([0,0,0,0,0,0,0,0,0,0,1,1,1,1,1,1,1,1,1,1])\n",
    "n_samples = train_X.shape[0]"
   ]
  },
  {
   "cell_type": "code",
   "execution_count": 22,
   "metadata": {},
   "outputs": [
    {
     "name": "stdout",
     "output_type": "stream",
     "text": [
      "Epoch: 0050 cost= 0.184476092 W= -0.0783956 b= 0.0908792\n",
      "Epoch: 0100 cost= 0.048275080 W= 0.167394 b= 0.0878276\n",
      "Epoch: 0150 cost= 0.031181555 W= 0.258287 b= 0.0855689\n",
      "Epoch: 0200 cost= 0.024824297 W= 0.314357 b= 0.0838741\n",
      "Epoch: 0250 cost= 0.021304172 W= 0.356192 b= 0.0824613\n",
      "Epoch: 0300 cost= 0.018986057 W= 0.390172 b= 0.081224\n",
      "Epoch: 0350 cost= 0.017305879 W= 0.419113 b= 0.0801099\n",
      "Epoch: 0400 cost= 0.016012166 W= 0.444512 b= 0.0790886\n",
      "Epoch: 0450 cost= 0.014973772 W= 0.467271 b= 0.0781408\n",
      "Epoch: 0500 cost= 0.014114794 W= 0.48797 b= 0.0772532\n",
      "Epoch: 0550 cost= 0.013387750 W= 0.507014 b= 0.0764162\n",
      "Epoch: 0600 cost= 0.012761198 W= 0.524693 b= 0.0756227\n",
      "Epoch: 0650 cost= 0.012213372 W= 0.541224 b= 0.0748668\n",
      "Epoch: 0700 cost= 0.011728676 W= 0.556773 b= 0.0741447\n",
      "Epoch: 0750 cost= 0.011295537 W= 0.571472 b= 0.0734522\n",
      "Epoch: 0800 cost= 0.010905122 W= 0.585427 b= 0.0727867\n",
      "Epoch: 0850 cost= 0.010550727 W= 0.598723 b= 0.0721449\n",
      "Epoch: 0900 cost= 0.010227019 W= 0.611429 b= 0.0715259\n",
      "Epoch: 0950 cost= 0.009929711 W= 0.623606 b= 0.0709273\n",
      "Epoch: 1000 cost= 0.009655270 W= 0.635304 b= 0.0703474\n",
      "Optimization Finished!\n",
      "Training cost= 0.00965527 W= 0.635304 b= 0.0703474 \n",
      "\n"
     ]
    },
    {
     "data": {
      "image/png": "[encoded data removed]",
      "text/plain": [
       "<matplotlib.figure.Figure at 0x1c1b078b9e8>"
      ]
     },
     "metadata": {},
     "output_type": "display_data"
    }
   ],
   "source": [
    "# tf 计算图的 输入\n",
    "X = tf.placeholder(\"float\")\n",
    "Y = tf.placeholder(\"float\")\n",
    "\n",
    "# 设定模型权重\n",
    "W = tf.Variable(rng.randn(), name=\"weight\")\n",
    "b = tf.Variable(rng.randn(), name=\"bias\")\n",
    "# 构建一个逻辑回归模型\n",
    "Wx_add_b = tf.multiply(X, W) + b\n",
    "pred = tf.sigmoid(Wx_add_b)\n",
    "# 均方误差\n",
    "cost = tf.reduce_sum(tf.pow(pred-Y, 2))/(2*n_samples)\n",
    "# 梯度下降\n",
    "optimizer = tf.train.GradientDescentOptimizer(learning_rate).minimize(cost)\n",
    "# 初始化变量\n",
    "init = tf.global_variables_initializer()\n",
    "with tf.Session() as sess:\n",
    "    sess.run(init)\n",
    "\n",
    "    # 拟合训练数据\n",
    "    for epoch in range(training_epochs):\n",
    "        for (x, y) in zip(train_X, train_Y):\n",
    "            sess.run(optimizer, feed_dict={X: x, Y: y})\n",
    "\n",
    "        #每个epoch输出信息\n",
    "        if (epoch+1) % display_step == 0:\n",
    "            c = sess.run(cost, feed_dict={X: train_X, Y:train_Y})\n",
    "            print (\"Epoch:\", '%04d' % (epoch+1), \"cost=\", \"{:.9f}\".format(c),\n",
    "                \"W=\", sess.run(W), \"b=\", sess.run(b))\n",
    "\n",
    "    print (\"Optimization Finished!\")\n",
    "    training_cost = sess.run(cost, feed_dict={X: train_X, Y: train_Y})\n",
    "    print (\"Training cost=\", training_cost, \"W=\", sess.run(W), \"b=\", sess.run(b), '\\n')\n",
    "\n",
    "    #Graphic display\n",
    "    prediction_value = sess.run(pred,feed_dict={X:train_X})\n",
    "    plt.plot(train_X, train_Y, 'ro', label='Original data')\n",
    "    plt.plot(train_X, prediction_value, label='Fitted line')\n",
    "    plt.legend()\n",
    "    plt.show()"
   ]
  },
  {
   "cell_type": "code",
   "execution_count": null,
   "metadata": {},
   "outputs": [],
   "source": []
  }
 ],
 "metadata": {
  "kernelspec": {
   "display_name": "Python 3",
   "language": "python",
   "name": "python3"
  },
  "language_info": {
   "codemirror_mode": {
    "name": "ipython",
    "version": 3
   },
   "file_extension": ".py",
   "mimetype": "text/x-python",
   "name": "python",
   "nbconvert_exporter": "python",
   "pygments_lexer": "ipython3",
   "version": "3.5.4"
  }
 },
 "nbformat": 4,
 "nbformat_minor": 2
}
