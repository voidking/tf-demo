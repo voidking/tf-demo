{
 "cells": [
  {
   "cell_type": "code",
   "execution_count": 1,
   "metadata": {},
   "outputs": [],
   "source": [
    "import tensorflow as tf\n",
    "import numpy\n",
    "import matplotlib.pyplot as plt\n",
    "rng = numpy.random"
   ]
  },
  {
   "cell_type": "code",
   "execution_count": 2,
   "metadata": {},
   "outputs": [],
   "source": [
    "# 设定的超参数\n",
    "learning_rate = 0.01\n",
    "training_epochs = 1000\n",
    "display_step = 50"
   ]
  },
  {
   "cell_type": "code",
   "execution_count": 3,
   "metadata": {},
   "outputs": [],
   "source": [
    "# 构造一些数据\n",
    "train_X = numpy.asarray([-10.0,-9.0,-8.0,-7.0,-6.0,-5.0,-4.0,-3.0,-2.0,-1.0,1.0,2.0,3.0,4.0,5.0,6.0,7.0,8.0,9.0,10.0])\n",
    "train_Y = numpy.asarray([0,0,0,0,0,0,0,0,0,0,1,1,1,1,1,1,1,1,1,1])\n",
    "n_samples = train_X.shape[0]"
   ]
  },
  {
   "cell_type": "code",
   "execution_count": 7,
   "metadata": {},
   "outputs": [
    {
     "name": "stdout",
     "output_type": "stream",
     "text": [
      "Epoch: 0050 cost= 0.059264578 W= 0.133466 b= 0.208202\n",
      "Epoch: 0100 cost= 0.034184635 W= 0.242644 b= 0.202495\n",
      "Epoch: 0150 cost= 0.026378101 W= 0.304589 b= 0.198348\n",
      "Epoch: 0200 cost= 0.022327067 W= 0.349349 b= 0.194942\n",
      "Epoch: 0250 cost= 0.019744094 W= 0.385115 b= 0.191982\n",
      "Epoch: 0300 cost= 0.017907377 W= 0.415279 b= 0.189328\n",
      "Epoch: 0350 cost= 0.016510751 W= 0.441579 b= 0.186902\n",
      "Epoch: 0400 cost= 0.015399648 W= 0.465034 b= 0.184655\n",
      "Epoch: 0450 cost= 0.014486504 W= 0.486293 b= 0.182554\n",
      "Epoch: 0500 cost= 0.013717512 W= 0.505797 b= 0.180575\n",
      "Epoch: 0550 cost= 0.013057460 W= 0.523865 b= 0.1787\n",
      "Epoch: 0600 cost= 0.012482281 W= 0.540727 b= 0.176917\n",
      "Epoch: 0650 cost= 0.011974705 W= 0.556565 b= 0.175212\n",
      "Epoch: 0700 cost= 0.011522160 W= 0.571518 b= 0.173578\n",
      "Epoch: 0750 cost= 0.011115134 W= 0.585697 b= 0.172009\n",
      "Epoch: 0800 cost= 0.010746328 W= 0.599191 b= 0.170498\n",
      "Epoch: 0850 cost= 0.010409860 W= 0.612079 b= 0.169038\n",
      "Epoch: 0900 cost= 0.010101232 W= 0.624421 b= 0.167627\n",
      "Epoch: 0950 cost= 0.009816715 W= 0.636269 b= 0.16626\n",
      "Epoch: 1000 cost= 0.009553220 W= 0.64767 b= 0.164935\n",
      "Optimization Finished!\n",
      "Training cost= 0.00955322 W= 0.64767 b= 0.164935 \n",
      "\n"
     ]
    },
    {
     "data": {
      "image/png": "[encoded data removed]",
      "text/plain": [
       "<matplotlib.figure.Figure at 0x9a3c131860>"
      ]
     },
     "metadata": {},
     "output_type": "display_data"
    }
   ],
   "source": [
    "# tf 计算图的 输入\n",
    "X = tf.placeholder(\"float\")\n",
    "Y = tf.placeholder(\"float\")\n",
    "\n",
    "# 设定模型权重\n",
    "W = tf.Variable(rng.randn(), name=\"weight\")\n",
    "b = tf.Variable(rng.randn(), name=\"bias\")\n",
    "# 构建一个逻辑回归模型\n",
    "Wx_add_b = W*X + b\n",
    "pred = tf.sigmoid(Wx_add_b)\n",
    "# 均方误差\n",
    "cost = tf.reduce_sum(tf.pow(pred-Y, 2))/(2*n_samples)\n",
    "# 梯度下降\n",
    "optimizer = tf.train.GradientDescentOptimizer(learning_rate).minimize(cost)\n",
    "# 初始化变量\n",
    "init = tf.global_variables_initializer()\n",
    "with tf.Session() as sess:\n",
    "    sess.run(init)\n",
    "\n",
    "    # 拟合训练数据\n",
    "    for epoch in range(training_epochs):\n",
    "        for (x, y) in zip(train_X, train_Y):\n",
    "            sess.run(optimizer, feed_dict={X: x, Y: y})\n",
    "\n",
    "        #每个epoch输出信息\n",
    "        if (epoch+1) % display_step == 0:\n",
    "            c = sess.run(cost, feed_dict={X: train_X, Y:train_Y})\n",
    "            print (\"Epoch:\", '%04d' % (epoch+1), \"cost=\", \"{:.9f}\".format(c),\n",
    "                \"W=\", sess.run(W), \"b=\", sess.run(b))\n",
    "\n",
    "    print (\"Optimization Finished!\")\n",
    "    training_cost = sess.run(cost, feed_dict={X: train_X, Y: train_Y})\n",
    "    print (\"Training cost=\", training_cost, \"W=\", sess.run(W), \"b=\", sess.run(b), '\\n')\n",
    "\n",
    "    #Graphic display\n",
    "    prediction_value = sess.run(pred,feed_dict={X:train_X})\n",
    "    plt.plot(train_X, train_Y, 'ro', label='Original data')\n",
    "    plt.plot(train_X, prediction_value, label='Fitted line')\n",
    "    plt.legend()\n",
    "    plt.show()"
   ]
  },
  {
   "cell_type": "code",
   "execution_count": null,
   "metadata": {},
   "outputs": [],
   "source": []
  }
 ],
 "metadata": {
  "kernelspec": {
   "display_name": "Python 3",
   "language": "python",
   "name": "python3"
  },
  "language_info": {
   "codemirror_mode": {
    "name": "ipython",
    "version": 3
   },
   "file_extension": ".py",
   "mimetype": "text/x-python",
   "name": "python",
   "nbconvert_exporter": "python",
   "pygments_lexer": "ipython3",
   "version": "3.6.1"
  }
 },
 "nbformat": 4,
 "nbformat_minor": 2
}
